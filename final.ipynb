{
 "cells": [
  {
   "cell_type": "code",
   "execution_count": 1,
   "metadata": {},
   "outputs": [],
   "source": [
    "from utilities.utils import *\n",
    "from misc.embedding_def import EmbeddingFabric\n",
    "from misc.indexer_def import Indexer\n",
    "from misc.metrics_def import *\n",
    "from trainer.model import *\n",
    "from trainer.training_model import *\n",
    "import torch\n",
    "import torch.nn as nn\n",
    "import torch.nn.functional as F\n",
    "import torch.optim as optim"
   ]
  },
  {
   "cell_type": "code",
   "execution_count": 3,
   "metadata": {},
   "outputs": [],
   "source": [
    "TRAIN_PATH = 'C:/Users/sidew/Desktop/AI/New folder/data/train.txt'\n",
    "DEV_PATH = 'C:/Users/sidew/Desktop/AI/New folder/data/dev.txt'\n",
    "TEST_PATH = 'C:/Users/sidew/Desktop/AI/New folder/data/test.txt'\n",
    "EMBEDDINGS_PATH = 'C:/Users/sidew/Desktop/AI/embeddings/glove.6B.100d.txt'"
   ]
  },
  {
   "cell_type": "code",
   "execution_count": 4,
   "metadata": {},
   "outputs": [
    {
     "name": "stderr",
     "output_type": "stream",
     "text": [
      "100%|███████████████████████████████████████████████████████████████████████| 400000/400000 [00:27<00:00, 14732.91it/s]\n"
     ]
    }
   ],
   "source": [
    "glove = load_embedding_dict(EMBEDDINGS_PATH)"
   ]
  },
  {
   "cell_type": "code",
   "execution_count": 5,
   "metadata": {},
   "outputs": [],
   "source": [
    "words, tags = read_ner_data_from_connl(TRAIN_PATH)"
   ]
  },
  {
   "cell_type": "code",
   "execution_count": 6,
   "metadata": {},
   "outputs": [],
   "source": [
    "val_words, val_tags = read_ner_data_from_connl(DEV_PATH)"
   ]
  },
  {
   "cell_type": "code",
   "execution_count": 7,
   "metadata": {},
   "outputs": [],
   "source": [
    "test_words, test_tags = read_ner_data_from_connl(TEST_PATH)"
   ]
  },
  {
   "cell_type": "code",
   "execution_count": 8,
   "metadata": {},
   "outputs": [],
   "source": [
    "data_dict = {\n",
    "    'train': (words, tags),\n",
    "    'dev': (val_words, val_tags),\n",
    "    'test': (test_words, test_tags)\n",
    "}"
   ]
  },
  {
   "cell_type": "code",
   "execution_count": 9,
   "metadata": {},
   "outputs": [],
   "source": [
    "words_indexer = Indexer(words)\n",
    "tags_indexer = Indexer(tags)"
   ]
  },
  {
   "cell_type": "code",
   "execution_count": 10,
   "metadata": {},
   "outputs": [],
   "source": [
    "EMBEDDING_DIM = 100\n",
    "HIDDEN_DIM = 100"
   ]
  },
  {
   "cell_type": "code",
   "execution_count": 11,
   "metadata": {},
   "outputs": [],
   "source": [
    "models = {}"
   ]
  },
  {
   "cell_type": "code",
   "execution_count": 12,
   "metadata": {},
   "outputs": [],
   "source": [
    "strategy = \"strategy\"\n",
    "model = LSTMTagger(EMBEDDING_DIM, HIDDEN_DIM,\n",
    "               tags_indexer.size(), \n",
    "               lambda: EmbeddingFabric.get_embedding_layer(words_indexer, glove, strategy))\n",
    "\n",
    "models[strategy] = model"
   ]
  },
  {
   "cell_type": "code",
   "execution_count": 13,
   "metadata": {},
   "outputs": [],
   "source": [
    "labels = [x for x in tags_indexer.get_element_to_index_dict().values()]"
   ]
  },
  {
   "cell_type": "code",
   "execution_count": 14,
   "metadata": {},
   "outputs": [],
   "source": [
    "plotting_data = {}\n",
    "trained_models = {}"
   ]
  },
  {
   "cell_type": "code",
   "execution_count": null,
   "metadata": {},
   "outputs": [],
   "source": [
    "for name, model in models.items():\n",
    "    print(f\"Training {name} model\")\n",
    "    loss_function = nn.NLLLoss()\n",
    "    optimizer = optim.SGD(model.parameters(), lr=0.1)\n",
    "    \n",
    "    metric_handler = MetricsHandler(labels)\n",
    "    valid_metric = MetricsHandler(labels)\n",
    "    \n",
    "    model, train, valid, losses = train_model(model, optimizer,\n",
    "                                  loss_function,\n",
    "                                  data_dict, \n",
    "                                  128, #batch size \n",
    "                                  words_indexer, \n",
    "                                  tags_indexer, \n",
    "                                  metric_handler, \n",
    "                                  valid_metric,\n",
    "                                  num_epochs=5)"
   ]
  },
  {
   "cell_type": "code",
   "execution_count": 3,
   "metadata": {},
   "outputs": [
    {
     "name": "stdout",
     "output_type": "stream",
     "text": [
      "strategy results on test set:\n",
      "Precision - 0.8212440570395734\n",
      "Recall - 0.6033666775396797\n",
      "F1-score - 0.6868141812878461\n",
      "F0.5-score - 0.7584959482622308\n"
     ]
    }
   ],
   "source": [
    "test_metrics = MetricsHandler(labels)\n",
    "\n",
    "for name, model in models.items():\n",
    "    print(f\"{name} results on test set:\")\n",
    "    with torch.no_grad():\n",
    "        inputs = torch.tensor(words_indexer.elements_to_index(test_words), dtype=torch.long)\n",
    "        true_vals = tags_indexer.elements_to_index(test_tags)\n",
    "        tag_scores = model(inputs)\n",
    "        prediction = get_tag_indexes_from_scores(tag_scores)\n",
    "        test_metrics.update(prediction, true_vals)\n",
    "        test_metrics.collect()\n",
    "        for metric in test_metrics.metrics_dict.keys():\n",
    "            print(f\"{metric} - {test_metrics.metrics_dict[metric][-1]}\")\n",
    "        print()"
   ]
  },
  {
   "cell_type": "code",
   "execution_count": null,
   "metadata": {},
   "outputs": [],
   "source": []
  }
 ],
 "metadata": {
  "kernelspec": {
   "display_name": "Python 3",
   "language": "python",
   "name": "python3"
  },
  "language_info": {
   "codemirror_mode": {
    "name": "ipython",
    "version": 3
   },
   "file_extension": ".py",
   "mimetype": "text/x-python",
   "name": "python",
   "nbconvert_exporter": "python",
   "pygments_lexer": "ipython3",
   "version": "3.11.4"
  }
 },
 "nbformat": 4,
 "nbformat_minor": 2
}
